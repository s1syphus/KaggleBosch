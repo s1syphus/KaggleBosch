{
 "cells": [
  {
   "cell_type": "code",
   "execution_count": null,
   "metadata": {
    "collapsed": true
   },
   "outputs": [],
   "source": [
    "# Imports\n",
    "import pandas as pd\n",
    "from sklearn.preprocessing import LabelEncoder\n",
    "import xgboost as xgb\n",
    "from collections import defaultdict\n",
    "import cPickle\n",
    "import numpy as np\n",
    "\n",
    "# We can remove these later\n",
    "import sys\n"
   ]
  },
  {
   "cell_type": "code",
   "execution_count": null,
   "metadata": {
    "collapsed": true
   },
   "outputs": [],
   "source": [
    "# Globals\n",
    "\n",
    "# Chunksize that seems to work for 32GB of RAM\n",
    "# Possible modify this\n",
    "# chunksize = 50000\n",
    "chunksize = 10000\n",
    "\n",
    "file_names = {}\n",
    "file_names['train'] = {}\n",
    "file_names['test'] = {}\n",
    "\n",
    "file_names['train']['date'] = 'data/train_date.csv'\n",
    "file_names['train']['categorical'] = 'data/train_categorical.csv'\n",
    "file_names['train']['numeric'] = 'data/train_numeric.csv'\n",
    "# file_names['test']['date'] = 'data/test_date.csv'\n",
    "# file_names['test']['categorical'] = 'data/test_categorical.csv'\n",
    "# file_names['test']['numeric'] = 'data/test_numeric.csv'\n",
    "\n",
    "model_dir = 'data/models/'\n",
    "sub_dir = 'data/submissions/'\n",
    "\n",
    "# This is for the categories and date\n",
    "d = defaultdict(LabelEncoder)\n"
   ]
  },
  {
   "cell_type": "code",
   "execution_count": null,
   "metadata": {
    "collapsed": false
   },
   "outputs": [],
   "source": [
    "# let's figure out which features are important\n",
    "# If we can get rid of unneeded features we can greatly reduce our calculations later\n",
    "\n",
    "num_train = pd.read_csv(file_names['train']['numeric'])\n",
    "print(sys.getsizeof(num_train)/(2**20))\n",
    "\n",
    "\n",
    "\n"
   ]
  }
 ],
 "metadata": {
  "kernelspec": {
   "display_name": "Python 2",
   "language": "python",
   "name": "python2"
  },
  "language_info": {
   "codemirror_mode": {
    "name": "ipython",
    "version": 2
   },
   "file_extension": ".py",
   "mimetype": "text/x-python",
   "name": "python",
   "nbconvert_exporter": "python",
   "pygments_lexer": "ipython2",
   "version": "2.7.12"
  }
 },
 "nbformat": 4,
 "nbformat_minor": 1
}
