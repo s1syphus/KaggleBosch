{
 "cells": [
  {
   "cell_type": "markdown",
   "metadata": {},
   "source": [
    "# Bosch Kaggle Script\n",
    "## To Do:\n",
    "* Objectify\n",
    "* LabelEncode Data?\n",
    "* Decision Tree\n"
   ]
  },
  {
   "cell_type": "code",
   "execution_count": 1,
   "metadata": {
    "collapsed": false
   },
   "outputs": [],
   "source": [
    "import pandas as pd\n",
    "from sklearn.preprocessing import LabelEncoder\n",
    "import subprocess\n",
    "import time\n",
    "import sys"
   ]
  },
  {
   "cell_type": "code",
   "execution_count": 6,
   "metadata": {
    "collapsed": false,
    "scrolled": true
   },
   "outputs": [
    {
     "name": "stdout",
     "output_type": "stream",
     "text": [
      "Need to load 100000 lines\n",
      "reading lines: 0 - 10000\n",
      "661\n",
      "reading lines: 10000 - 20000\n",
      "661\n",
      "reading lines: 20000 - 30000\n",
      "661\n",
      "reading lines: 30000 - 40000\n",
      "661\n",
      "reading lines: 40000 - 50000\n",
      "661\n",
      "reading lines: 50000 - 60000\n",
      "661\n",
      "reading lines: 60000 - 70000\n",
      "661\n",
      "reading lines: 70000 - 80000\n",
      "661\n",
      "reading lines: 80000 - 90000\n",
      "661\n",
      "reading lines: 90000 - 100000\n",
      "661\n",
      "overall time to read 100000 lines is 20.8384599686\n"
     ]
    }
   ],
   "source": [
    "# Data handling stuff\n",
    "in_csv = 'data/train_categorical.csv'\n",
    "# Chunksize seems to work for 32GB of RAM\n",
    "chunksize = 10000\n",
    "\n",
    "\n",
    "# nlines = subprocess.check_output('wc -l %s' % in_csv, shell=True)\n",
    "# nlines = int(nlines.split()[0]) \n",
    "# This is just temporary for testing\n",
    "nlines = 100000\n",
    "print('Need to load %d lines' % nlines)\n",
    "\n",
    "time_start = time.time()\n",
    "total_start = time_start\n",
    "\n",
    "# This gets our types and header for faster reads later\n",
    "df = pd.read_csv(in_csv, nrows=2)\n",
    "types = df.dtypes\n",
    "columns = df.columns\n",
    "\n",
    "# Ignore the header works, not using the csv thing because\n",
    "for i in range(1, nlines, chunksize):\n",
    "    print('reading lines: %d - %d' % (i-1, i+chunksize-1))\n",
    "    df = pd.read_csv(\n",
    "            in_csv,  \n",
    "            header=None,\n",
    "            names=columns,\n",
    "            nrows=chunksize,\n",
    "            skiprows=i,\n",
    "            dtype=types\n",
    "            )\n",
    "    print(df.head(10))\n",
    "\n",
    "print('overall time to read %d lines is %s' % (nlines, time.time() - total_start))"
   ]
  },
  {
   "cell_type": "markdown",
   "metadata": {},
   "source": [
    "### Benchmarks\n",
    "overall time to read 1000000 lines is 211.175414085"
   ]
  },
  {
   "cell_type": "code",
   "execution_count": null,
   "metadata": {
    "collapsed": true
   },
   "outputs": [],
   "source": []
  }
 ],
 "metadata": {
  "kernelspec": {
   "display_name": "Python 2",
   "language": "python",
   "name": "python2"
  },
  "language_info": {
   "codemirror_mode": {
    "name": "ipython",
    "version": 2
   },
   "file_extension": ".py",
   "mimetype": "text/x-python",
   "name": "python",
   "nbconvert_exporter": "python",
   "pygments_lexer": "ipython2",
   "version": "2.7.12"
  }
 },
 "nbformat": 4,
 "nbformat_minor": 0
}
